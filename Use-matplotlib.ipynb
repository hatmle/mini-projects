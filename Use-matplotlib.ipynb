{
 "cells": [
  {
   "cell_type": "code",
   "execution_count": 1,
   "metadata": {},
   "outputs": [],
   "source": [
    "# library\n",
    "import pandas as pd\n",
    "import numpy as np\n",
    "\n",
    "import matplotlib.pyplot as plt\n",
    "%matplotlib inline"
   ]
  },
  {
   "cell_type": "markdown",
   "metadata": {},
   "source": [
    "### Load data"
   ]
  },
  {
   "cell_type": "code",
   "execution_count": 2,
   "metadata": {},
   "outputs": [],
   "source": [
    "# Read the City and Ride Data\n",
    "city_df = pd.read_csv('city_data.csv')\n",
    "ride_df = pd.read_csv('ride_data.csv')"
   ]
  },
  {
   "cell_type": "code",
   "execution_count": 3,
   "metadata": {},
   "outputs": [
    {
     "name": "stdout",
     "output_type": "stream",
     "text": [
      "<class 'pandas.core.frame.DataFrame'>\n",
      "RangeIndex: 120 entries, 0 to 119\n",
      "Data columns (total 3 columns):\n",
      "city            120 non-null object\n",
      "driver_count    120 non-null int64\n",
      "type            120 non-null object\n",
      "dtypes: int64(1), object(2)\n",
      "memory usage: 2.9+ KB\n"
     ]
    }
   ],
   "source": [
    "city_df.info()"
   ]
  },
  {
   "cell_type": "code",
   "execution_count": 4,
   "metadata": {},
   "outputs": [
    {
     "data": {
      "text/html": [
       "<div>\n",
       "<style scoped>\n",
       "    .dataframe tbody tr th:only-of-type {\n",
       "        vertical-align: middle;\n",
       "    }\n",
       "\n",
       "    .dataframe tbody tr th {\n",
       "        vertical-align: top;\n",
       "    }\n",
       "\n",
       "    .dataframe thead th {\n",
       "        text-align: right;\n",
       "    }\n",
       "</style>\n",
       "<table border=\"1\" class=\"dataframe\">\n",
       "  <thead>\n",
       "    <tr style=\"text-align: right;\">\n",
       "      <th></th>\n",
       "      <th>city</th>\n",
       "      <th>driver_count</th>\n",
       "      <th>type</th>\n",
       "    </tr>\n",
       "  </thead>\n",
       "  <tbody>\n",
       "    <tr>\n",
       "      <th>0</th>\n",
       "      <td>Richardfort</td>\n",
       "      <td>38</td>\n",
       "      <td>Urban</td>\n",
       "    </tr>\n",
       "    <tr>\n",
       "      <th>1</th>\n",
       "      <td>Williamsstad</td>\n",
       "      <td>59</td>\n",
       "      <td>Urban</td>\n",
       "    </tr>\n",
       "    <tr>\n",
       "      <th>2</th>\n",
       "      <td>Port Angela</td>\n",
       "      <td>67</td>\n",
       "      <td>Urban</td>\n",
       "    </tr>\n",
       "    <tr>\n",
       "      <th>3</th>\n",
       "      <td>Rodneyfort</td>\n",
       "      <td>34</td>\n",
       "      <td>Urban</td>\n",
       "    </tr>\n",
       "    <tr>\n",
       "      <th>4</th>\n",
       "      <td>West Robert</td>\n",
       "      <td>39</td>\n",
       "      <td>Urban</td>\n",
       "    </tr>\n",
       "  </tbody>\n",
       "</table>\n",
       "</div>"
      ],
      "text/plain": [
       "           city  driver_count   type\n",
       "0   Richardfort            38  Urban\n",
       "1  Williamsstad            59  Urban\n",
       "2   Port Angela            67  Urban\n",
       "3    Rodneyfort            34  Urban\n",
       "4   West Robert            39  Urban"
      ]
     },
     "execution_count": 4,
     "metadata": {},
     "output_type": "execute_result"
    }
   ],
   "source": [
    "city_df.head()"
   ]
  },
  {
   "cell_type": "code",
   "execution_count": 5,
   "metadata": {},
   "outputs": [
    {
     "name": "stdout",
     "output_type": "stream",
     "text": [
      "<class 'pandas.core.frame.DataFrame'>\n",
      "RangeIndex: 2375 entries, 0 to 2374\n",
      "Data columns (total 4 columns):\n",
      "city       2375 non-null object\n",
      "date       2375 non-null object\n",
      "fare       2375 non-null float64\n",
      "ride_id    2375 non-null int64\n",
      "dtypes: float64(1), int64(1), object(2)\n",
      "memory usage: 74.3+ KB\n"
     ]
    }
   ],
   "source": [
    "ride_df.info()"
   ]
  },
  {
   "cell_type": "code",
   "execution_count": 6,
   "metadata": {},
   "outputs": [
    {
     "data": {
      "text/html": [
       "<div>\n",
       "<style scoped>\n",
       "    .dataframe tbody tr th:only-of-type {\n",
       "        vertical-align: middle;\n",
       "    }\n",
       "\n",
       "    .dataframe tbody tr th {\n",
       "        vertical-align: top;\n",
       "    }\n",
       "\n",
       "    .dataframe thead th {\n",
       "        text-align: right;\n",
       "    }\n",
       "</style>\n",
       "<table border=\"1\" class=\"dataframe\">\n",
       "  <thead>\n",
       "    <tr style=\"text-align: right;\">\n",
       "      <th></th>\n",
       "      <th>city</th>\n",
       "      <th>date</th>\n",
       "      <th>fare</th>\n",
       "      <th>ride_id</th>\n",
       "    </tr>\n",
       "  </thead>\n",
       "  <tbody>\n",
       "    <tr>\n",
       "      <th>0</th>\n",
       "      <td>Lake Jonathanshire</td>\n",
       "      <td>2018-01-14 10:14:22</td>\n",
       "      <td>13.83</td>\n",
       "      <td>5739410935873</td>\n",
       "    </tr>\n",
       "    <tr>\n",
       "      <th>1</th>\n",
       "      <td>South Michelleport</td>\n",
       "      <td>2018-03-04 18:24:09</td>\n",
       "      <td>30.24</td>\n",
       "      <td>2343912425577</td>\n",
       "    </tr>\n",
       "    <tr>\n",
       "      <th>2</th>\n",
       "      <td>Port Samanthamouth</td>\n",
       "      <td>2018-02-24 04:29:00</td>\n",
       "      <td>33.44</td>\n",
       "      <td>2005065760003</td>\n",
       "    </tr>\n",
       "    <tr>\n",
       "      <th>3</th>\n",
       "      <td>Rodneyfort</td>\n",
       "      <td>2018-02-10 23:22:03</td>\n",
       "      <td>23.44</td>\n",
       "      <td>5149245426178</td>\n",
       "    </tr>\n",
       "    <tr>\n",
       "      <th>4</th>\n",
       "      <td>South Jack</td>\n",
       "      <td>2018-03-06 04:28:35</td>\n",
       "      <td>34.58</td>\n",
       "      <td>3908451377344</td>\n",
       "    </tr>\n",
       "  </tbody>\n",
       "</table>\n",
       "</div>"
      ],
      "text/plain": [
       "                 city                 date   fare        ride_id\n",
       "0  Lake Jonathanshire  2018-01-14 10:14:22  13.83  5739410935873\n",
       "1  South Michelleport  2018-03-04 18:24:09  30.24  2343912425577\n",
       "2  Port Samanthamouth  2018-02-24 04:29:00  33.44  2005065760003\n",
       "3          Rodneyfort  2018-02-10 23:22:03  23.44  5149245426178\n",
       "4          South Jack  2018-03-06 04:28:35  34.58  3908451377344"
      ]
     },
     "execution_count": 6,
     "metadata": {},
     "output_type": "execute_result"
    }
   ],
   "source": [
    "ride_df.head()"
   ]
  },
  {
   "cell_type": "code",
   "execution_count": 7,
   "metadata": {},
   "outputs": [
    {
     "data": {
      "text/html": [
       "<div>\n",
       "<style scoped>\n",
       "    .dataframe tbody tr th:only-of-type {\n",
       "        vertical-align: middle;\n",
       "    }\n",
       "\n",
       "    .dataframe tbody tr th {\n",
       "        vertical-align: top;\n",
       "    }\n",
       "\n",
       "    .dataframe thead th {\n",
       "        text-align: right;\n",
       "    }\n",
       "</style>\n",
       "<table border=\"1\" class=\"dataframe\">\n",
       "  <thead>\n",
       "    <tr style=\"text-align: right;\">\n",
       "      <th></th>\n",
       "      <th>city</th>\n",
       "      <th>date</th>\n",
       "      <th>fare</th>\n",
       "      <th>ride_id</th>\n",
       "      <th>driver_count</th>\n",
       "      <th>type</th>\n",
       "    </tr>\n",
       "  </thead>\n",
       "  <tbody>\n",
       "    <tr>\n",
       "      <th>0</th>\n",
       "      <td>Lake Jonathanshire</td>\n",
       "      <td>2018-01-14 10:14:22</td>\n",
       "      <td>13.83</td>\n",
       "      <td>5739410935873</td>\n",
       "      <td>5</td>\n",
       "      <td>Urban</td>\n",
       "    </tr>\n",
       "    <tr>\n",
       "      <th>1</th>\n",
       "      <td>Lake Jonathanshire</td>\n",
       "      <td>2018-04-07 20:51:11</td>\n",
       "      <td>31.25</td>\n",
       "      <td>4441251834598</td>\n",
       "      <td>5</td>\n",
       "      <td>Urban</td>\n",
       "    </tr>\n",
       "    <tr>\n",
       "      <th>2</th>\n",
       "      <td>Lake Jonathanshire</td>\n",
       "      <td>2018-03-09 23:45:55</td>\n",
       "      <td>19.89</td>\n",
       "      <td>2389495660448</td>\n",
       "      <td>5</td>\n",
       "      <td>Urban</td>\n",
       "    </tr>\n",
       "    <tr>\n",
       "      <th>3</th>\n",
       "      <td>Lake Jonathanshire</td>\n",
       "      <td>2018-04-07 18:09:21</td>\n",
       "      <td>24.28</td>\n",
       "      <td>7796805191168</td>\n",
       "      <td>5</td>\n",
       "      <td>Urban</td>\n",
       "    </tr>\n",
       "    <tr>\n",
       "      <th>4</th>\n",
       "      <td>Lake Jonathanshire</td>\n",
       "      <td>2018-01-02 14:14:50</td>\n",
       "      <td>13.89</td>\n",
       "      <td>424254840012</td>\n",
       "      <td>5</td>\n",
       "      <td>Urban</td>\n",
       "    </tr>\n",
       "  </tbody>\n",
       "</table>\n",
       "</div>"
      ],
      "text/plain": [
       "                 city                 date   fare        ride_id  \\\n",
       "0  Lake Jonathanshire  2018-01-14 10:14:22  13.83  5739410935873   \n",
       "1  Lake Jonathanshire  2018-04-07 20:51:11  31.25  4441251834598   \n",
       "2  Lake Jonathanshire  2018-03-09 23:45:55  19.89  2389495660448   \n",
       "3  Lake Jonathanshire  2018-04-07 18:09:21  24.28  7796805191168   \n",
       "4  Lake Jonathanshire  2018-01-02 14:14:50  13.89   424254840012   \n",
       "\n",
       "   driver_count   type  \n",
       "0             5  Urban  \n",
       "1             5  Urban  \n",
       "2             5  Urban  \n",
       "3             5  Urban  \n",
       "4             5  Urban  "
      ]
     },
     "execution_count": 7,
     "metadata": {},
     "output_type": "execute_result"
    }
   ],
   "source": [
    "# Combine the data into a dataframe\n",
    "combined_df = pd.merge(ride_df, city_df, on='city', how='inner')\n",
    "combined_df.head()"
   ]
  },
  {
   "cell_type": "code",
   "execution_count": 8,
   "metadata": {},
   "outputs": [
    {
     "name": "stdout",
     "output_type": "stream",
     "text": [
      "<class 'pandas.core.frame.DataFrame'>\n",
      "Int64Index: 2375 entries, 0 to 2374\n",
      "Data columns (total 6 columns):\n",
      "city            2375 non-null object\n",
      "date            2375 non-null object\n",
      "fare            2375 non-null float64\n",
      "ride_id         2375 non-null int64\n",
      "driver_count    2375 non-null int64\n",
      "type            2375 non-null object\n",
      "dtypes: float64(1), int64(2), object(3)\n",
      "memory usage: 129.9+ KB\n"
     ]
    }
   ],
   "source": [
    "combined_df.info()"
   ]
  },
  {
   "cell_type": "code",
   "execution_count": 9,
   "metadata": {},
   "outputs": [
    {
     "data": {
      "text/html": [
       "<div>\n",
       "<style scoped>\n",
       "    .dataframe tbody tr th:only-of-type {\n",
       "        vertical-align: middle;\n",
       "    }\n",
       "\n",
       "    .dataframe tbody tr th {\n",
       "        vertical-align: top;\n",
       "    }\n",
       "\n",
       "    .dataframe thead th {\n",
       "        text-align: right;\n",
       "    }\n",
       "</style>\n",
       "<table border=\"1\" class=\"dataframe\">\n",
       "  <thead>\n",
       "    <tr style=\"text-align: right;\">\n",
       "      <th></th>\n",
       "      <th>city</th>\n",
       "      <th>date</th>\n",
       "      <th>fare</th>\n",
       "      <th>ride_id</th>\n",
       "      <th>driver_count</th>\n",
       "      <th>type</th>\n",
       "    </tr>\n",
       "  </thead>\n",
       "  <tbody>\n",
       "    <tr>\n",
       "      <th>count</th>\n",
       "      <td>2375</td>\n",
       "      <td>2375</td>\n",
       "      <td>2375.000000</td>\n",
       "      <td>2.375000e+03</td>\n",
       "      <td>2375.000000</td>\n",
       "      <td>2375</td>\n",
       "    </tr>\n",
       "    <tr>\n",
       "      <th>unique</th>\n",
       "      <td>120</td>\n",
       "      <td>2375</td>\n",
       "      <td>NaN</td>\n",
       "      <td>NaN</td>\n",
       "      <td>NaN</td>\n",
       "      <td>3</td>\n",
       "    </tr>\n",
       "    <tr>\n",
       "      <th>top</th>\n",
       "      <td>West Angela</td>\n",
       "      <td>2018-03-24 02:53:43</td>\n",
       "      <td>NaN</td>\n",
       "      <td>NaN</td>\n",
       "      <td>NaN</td>\n",
       "      <td>Urban</td>\n",
       "    </tr>\n",
       "    <tr>\n",
       "      <th>freq</th>\n",
       "      <td>39</td>\n",
       "      <td>1</td>\n",
       "      <td>NaN</td>\n",
       "      <td>NaN</td>\n",
       "      <td>NaN</td>\n",
       "      <td>1625</td>\n",
       "    </tr>\n",
       "    <tr>\n",
       "      <th>mean</th>\n",
       "      <td>NaN</td>\n",
       "      <td>NaN</td>\n",
       "      <td>26.753112</td>\n",
       "      <td>4.887270e+12</td>\n",
       "      <td>28.930105</td>\n",
       "      <td>NaN</td>\n",
       "    </tr>\n",
       "    <tr>\n",
       "      <th>std</th>\n",
       "      <td>NaN</td>\n",
       "      <td>NaN</td>\n",
       "      <td>12.109465</td>\n",
       "      <td>2.907361e+12</td>\n",
       "      <td>20.666306</td>\n",
       "      <td>NaN</td>\n",
       "    </tr>\n",
       "    <tr>\n",
       "      <th>min</th>\n",
       "      <td>NaN</td>\n",
       "      <td>NaN</td>\n",
       "      <td>4.050000</td>\n",
       "      <td>3.218337e+08</td>\n",
       "      <td>1.000000</td>\n",
       "      <td>NaN</td>\n",
       "    </tr>\n",
       "    <tr>\n",
       "      <th>25%</th>\n",
       "      <td>NaN</td>\n",
       "      <td>NaN</td>\n",
       "      <td>17.190000</td>\n",
       "      <td>2.381175e+12</td>\n",
       "      <td>11.000000</td>\n",
       "      <td>NaN</td>\n",
       "    </tr>\n",
       "    <tr>\n",
       "      <th>50%</th>\n",
       "      <td>NaN</td>\n",
       "      <td>NaN</td>\n",
       "      <td>26.600000</td>\n",
       "      <td>4.748541e+12</td>\n",
       "      <td>23.000000</td>\n",
       "      <td>NaN</td>\n",
       "    </tr>\n",
       "    <tr>\n",
       "      <th>75%</th>\n",
       "      <td>NaN</td>\n",
       "      <td>NaN</td>\n",
       "      <td>36.645000</td>\n",
       "      <td>7.461936e+12</td>\n",
       "      <td>45.000000</td>\n",
       "      <td>NaN</td>\n",
       "    </tr>\n",
       "    <tr>\n",
       "      <th>max</th>\n",
       "      <td>NaN</td>\n",
       "      <td>NaN</td>\n",
       "      <td>58.550000</td>\n",
       "      <td>9.991538e+12</td>\n",
       "      <td>73.000000</td>\n",
       "      <td>NaN</td>\n",
       "    </tr>\n",
       "  </tbody>\n",
       "</table>\n",
       "</div>"
      ],
      "text/plain": [
       "               city                 date         fare       ride_id  \\\n",
       "count          2375                 2375  2375.000000  2.375000e+03   \n",
       "unique          120                 2375          NaN           NaN   \n",
       "top     West Angela  2018-03-24 02:53:43          NaN           NaN   \n",
       "freq             39                    1          NaN           NaN   \n",
       "mean            NaN                  NaN    26.753112  4.887270e+12   \n",
       "std             NaN                  NaN    12.109465  2.907361e+12   \n",
       "min             NaN                  NaN     4.050000  3.218337e+08   \n",
       "25%             NaN                  NaN    17.190000  2.381175e+12   \n",
       "50%             NaN                  NaN    26.600000  4.748541e+12   \n",
       "75%             NaN                  NaN    36.645000  7.461936e+12   \n",
       "max             NaN                  NaN    58.550000  9.991538e+12   \n",
       "\n",
       "        driver_count   type  \n",
       "count    2375.000000   2375  \n",
       "unique           NaN      3  \n",
       "top              NaN  Urban  \n",
       "freq             NaN   1625  \n",
       "mean       28.930105    NaN  \n",
       "std        20.666306    NaN  \n",
       "min         1.000000    NaN  \n",
       "25%        11.000000    NaN  \n",
       "50%        23.000000    NaN  \n",
       "75%        45.000000    NaN  \n",
       "max        73.000000    NaN  "
      ]
     },
     "execution_count": 9,
     "metadata": {},
     "output_type": "execute_result"
    }
   ],
   "source": [
    "combined_df.describe(include='all')"
   ]
  },
  {
   "cell_type": "markdown",
   "metadata": {},
   "source": [
    "### Bubble plot"
   ]
  },
  {
   "cell_type": "code",
   "execution_count": 10,
   "metadata": {},
   "outputs": [
    {
     "data": {
      "text/html": [
       "<div>\n",
       "<style scoped>\n",
       "    .dataframe tbody tr th:only-of-type {\n",
       "        vertical-align: middle;\n",
       "    }\n",
       "\n",
       "    .dataframe tbody tr th {\n",
       "        vertical-align: top;\n",
       "    }\n",
       "\n",
       "    .dataframe thead th {\n",
       "        text-align: right;\n",
       "    }\n",
       "</style>\n",
       "<table border=\"1\" class=\"dataframe\">\n",
       "  <thead>\n",
       "    <tr style=\"text-align: right;\">\n",
       "      <th></th>\n",
       "      <th>ride_id</th>\n",
       "      <th>fare</th>\n",
       "    </tr>\n",
       "    <tr>\n",
       "      <th>city</th>\n",
       "      <th></th>\n",
       "      <th></th>\n",
       "    </tr>\n",
       "  </thead>\n",
       "  <tbody>\n",
       "    <tr>\n",
       "      <th>Amandaburgh</th>\n",
       "      <td>18.0</td>\n",
       "      <td>24.641667</td>\n",
       "    </tr>\n",
       "    <tr>\n",
       "      <th>Barajasview</th>\n",
       "      <td>22.0</td>\n",
       "      <td>25.332273</td>\n",
       "    </tr>\n",
       "    <tr>\n",
       "      <th>Barronchester</th>\n",
       "      <td>16.0</td>\n",
       "      <td>36.422500</td>\n",
       "    </tr>\n",
       "    <tr>\n",
       "      <th>Bethanyland</th>\n",
       "      <td>18.0</td>\n",
       "      <td>32.956111</td>\n",
       "    </tr>\n",
       "    <tr>\n",
       "      <th>Bradshawfurt</th>\n",
       "      <td>10.0</td>\n",
       "      <td>40.064000</td>\n",
       "    </tr>\n",
       "  </tbody>\n",
       "</table>\n",
       "</div>"
      ],
      "text/plain": [
       "               ride_id       fare\n",
       "city                             \n",
       "Amandaburgh       18.0  24.641667\n",
       "Barajasview       22.0  25.332273\n",
       "Barronchester     16.0  36.422500\n",
       "Bethanyland       18.0  32.956111\n",
       "Bradshawfurt      10.0  40.064000"
      ]
     },
     "execution_count": 10,
     "metadata": {},
     "output_type": "execute_result"
    }
   ],
   "source": [
    "# Obtain the x and y coordinates for each of the three city types\n",
    "city_group = combined_df.groupby(['city'])\n",
    "rides_per_city = city_group['ride_id'].count()\n",
    "average_fares = city_group['fare'].mean()\n",
    "drivers_per_city = city_group['driver_count'].mean()\n",
    "\n",
    "# Make dataframe \n",
    "rides_and_fares_df = pd.DataFrame([rides_per_city, average_fares])\n",
    "rides_and_fares_df = rides_and_fares_df.transpose()\n",
    "rides_and_fares_df.head()"
   ]
  },
  {
   "cell_type": "code",
   "execution_count": 11,
   "metadata": {},
   "outputs": [
    {
     "data": {
      "text/html": [
       "<div>\n",
       "<style scoped>\n",
       "    .dataframe tbody tr th:only-of-type {\n",
       "        vertical-align: middle;\n",
       "    }\n",
       "\n",
       "    .dataframe tbody tr th {\n",
       "        vertical-align: top;\n",
       "    }\n",
       "\n",
       "    .dataframe thead th {\n",
       "        text-align: right;\n",
       "    }\n",
       "</style>\n",
       "<table border=\"1\" class=\"dataframe\">\n",
       "  <thead>\n",
       "    <tr style=\"text-align: right;\">\n",
       "      <th></th>\n",
       "      <th>city</th>\n",
       "      <th>Drivers Count by City</th>\n",
       "      <th>Type</th>\n",
       "      <th>Rides per City</th>\n",
       "      <th>Average Fares</th>\n",
       "    </tr>\n",
       "  </thead>\n",
       "  <tbody>\n",
       "    <tr>\n",
       "      <th>0</th>\n",
       "      <td>Richardfort</td>\n",
       "      <td>38</td>\n",
       "      <td>Urban</td>\n",
       "      <td>28.0</td>\n",
       "      <td>22.373214</td>\n",
       "    </tr>\n",
       "    <tr>\n",
       "      <th>1</th>\n",
       "      <td>Williamsstad</td>\n",
       "      <td>59</td>\n",
       "      <td>Urban</td>\n",
       "      <td>23.0</td>\n",
       "      <td>24.362174</td>\n",
       "    </tr>\n",
       "    <tr>\n",
       "      <th>2</th>\n",
       "      <td>Port Angela</td>\n",
       "      <td>67</td>\n",
       "      <td>Urban</td>\n",
       "      <td>19.0</td>\n",
       "      <td>23.836842</td>\n",
       "    </tr>\n",
       "    <tr>\n",
       "      <th>3</th>\n",
       "      <td>Rodneyfort</td>\n",
       "      <td>34</td>\n",
       "      <td>Urban</td>\n",
       "      <td>23.0</td>\n",
       "      <td>28.616957</td>\n",
       "    </tr>\n",
       "    <tr>\n",
       "      <th>4</th>\n",
       "      <td>West Robert</td>\n",
       "      <td>39</td>\n",
       "      <td>Urban</td>\n",
       "      <td>31.0</td>\n",
       "      <td>25.123871</td>\n",
       "    </tr>\n",
       "  </tbody>\n",
       "</table>\n",
       "</div>"
      ],
      "text/plain": [
       "           city  Drivers Count by City   Type  Rides per City  Average Fares\n",
       "0   Richardfort                     38  Urban            28.0      22.373214\n",
       "1  Williamsstad                     59  Urban            23.0      24.362174\n",
       "2   Port Angela                     67  Urban            19.0      23.836842\n",
       "3    Rodneyfort                     34  Urban            23.0      28.616957\n",
       "4   West Robert                     39  Urban            31.0      25.123871"
      ]
     },
     "execution_count": 11,
     "metadata": {},
     "output_type": "execute_result"
    }
   ],
   "source": [
    "# Combine rides and fares data with city type\n",
    "data = pd.merge(city_df, rides_and_fares_df, on='city')\n",
    "\n",
    "# Change columns name\n",
    "data = data.rename(\n",
    "    columns={\n",
    "        'ride_id':'Rides per City',\n",
    "        'fare':'Average Fares',\n",
    "        'driver_count': 'Drivers Count by City',\n",
    "        'type':'Type'})\n",
    "data.head()"
   ]
  },
  {
   "cell_type": "code",
   "execution_count": 12,
   "metadata": {},
   "outputs": [
    {
     "name": "stdout",
     "output_type": "stream",
     "text": [
      "['Urban' 'Suburban' 'Rural']\n"
     ]
    }
   ],
   "source": [
    "# all type in combine_df\n",
    "types = combined_df['type'].unique()\n",
    "print(types)"
   ]
  },
  {
   "cell_type": "code",
   "execution_count": 13,
   "metadata": {},
   "outputs": [
    {
     "data": {
      "image/png": "[encoded data removed]",
      "text/plain": [
       "<Figure size 432x288 with 1 Axes>"
      ]
     },
     "metadata": {
      "needs_background": "light"
     },
     "output_type": "display_data"
    }
   ],
   "source": [
    "# Obtain the x and y coordinates for each of the three city types\n",
    "\n",
    "urban_fare = data[(data['Type']=='Urban')]['Average Fares']\n",
    "urban_rides = data[(data['Type']=='Urban')]['Rides per City']\n",
    "urban_drivers = data[(data['Type']=='Urban')]['Drivers Count by City']\n",
    "\n",
    "suburban_fare = data[(data['Type']=='Suburban')]['Average Fares']\n",
    "suburban_rides = data[(data['Type']=='Suburban')]['Rides per City']\n",
    "suburban_drivers = data[(data['Type']=='Suburban')]['Drivers Count by City']\n",
    "\n",
    "rural_fare = data[(data['Type']=='Rural')]['Average Fares']\n",
    "rural_rides = data[(data['Type']=='Rural')]['Rides per City']\n",
    "rural_drivers = data[(data['Type']=='Rural')]['Drivers Count by City']\n",
    "\n",
    "\n",
    "# Build the scatter plots for each city types\n",
    "\n",
    "# Urban plot\n",
    "plt.scatter(urban_rides, urban_fare, color=\"lightcoral\", s=urban_drivers*8,\n",
    "            alpha=0.7, linewidths = 1.5, edgecolors ='black', label=\"Urban\")\n",
    "# Suburban plot\n",
    "plt.scatter(suburban_rides, suburban_fare, color=\"lightskyblue\", s=suburban_drivers*8,\n",
    "            edgecolors ='black', alpha=0.7, linewidths = 1.5, label=\"Suburban\")\n",
    "# Rural plot\n",
    "plt.scatter(rural_rides,rural_fare,color=\"gold\", s=rural_drivers*8,\n",
    "            alpha=0.7, linewidths = 1.5, edgecolors='black', label=\"Rural\")\n",
    "\n",
    "\n",
    "# Incorporate the other graph properties\n",
    "plt.xlabel(\"Total number of Rides(Per City)\")\n",
    "plt.ylabel(\"Average Fare($)\")\n",
    "plt.suptitle(\"Pyber Ride Sharing Data\", fontsize = 15)\n",
    "plt.grid()\n",
    "\n",
    "\n",
    "# Create a legend\n",
    "lgnd = plt.legend(loc=\"best\", title='City Types', title_fontsize=12, fontsize=8)\n",
    "lgnd.legendHandles[0]._sizes = [60]\n",
    "lgnd.legendHandles[1]._sizes = [60]\n",
    "lgnd.legendHandles[2]._sizes = [60]\n",
    "\n",
    "\n",
    "# Title\n",
    "plt.title(\"NOTE: Circle size correlates with driver count by city\", fontsize = 10)\n",
    "\n",
    "\n",
    "# Save Figure\n",
    "# plt.savefig('bubble_plot.png')\n",
    "plt.show()"
   ]
  },
  {
   "cell_type": "markdown",
   "metadata": {},
   "source": [
    "### Pie plot"
   ]
  },
  {
   "cell_type": "code",
   "execution_count": 14,
   "metadata": {},
   "outputs": [
    {
     "data": {
      "image/png": "[encoded data removed]",
      "text/plain": [
       "<Figure size 432x288 with 1 Axes>"
      ]
     },
     "metadata": {},
     "output_type": "display_data"
    }
   ],
   "source": [
    "# Calculate Type Percents\n",
    "fare_pie = combined_df.groupby('type')['fare'].sum()\n",
    "\n",
    "# Build Pie Chart\n",
    "labels = [\"Rural\", \"Suburban\", \"Urban\"]\n",
    "colors = [\"gold\", \"lightskyblue\", \"lightcoral\"]\n",
    "explode = (0, 0, 0.1)\n",
    "\n",
    "plt.pie(fare_pie, explode = explode, labels = labels,\n",
    "        colors=colors, autopct = \"%1.1f%%\", shadow = True, startangle = 150)\n",
    "plt.title(\"% of Total Fares by City Type\")\n",
    "plt.axis(\"auto\")\n",
    "plt.tight_layout()\n",
    "\n",
    "#plt.savefig('pie_fares.png')\n",
    "plt.show()"
   ]
  },
  {
   "cell_type": "code",
   "execution_count": 15,
   "metadata": {},
   "outputs": [
    {
     "data": {
      "image/png": "[encoded data removed]",
      "text/plain": [
       "<Figure size 432x288 with 1 Axes>"
      ]
     },
     "metadata": {},
     "output_type": "display_data"
    }
   ],
   "source": [
    "# Calculate Ride Percents\n",
    "drivers_pie = combined_df.groupby('type')['driver_count'].sum()\n",
    "\n",
    "# Build Pie Chart\n",
    "labels = [\"Rural\", \"Suburban\", \"Urban\"]\n",
    "colors = [\"gold\", \"lightskyblue\", \"lightcoral\"]\n",
    "explode = (0, 0, 0.1)\n",
    "\n",
    "plt.pie(drivers_pie, explode = explode, labels = labels,\n",
    "        colors = colors, autopct = \"%1.1f%%\", shadow = True, startangle = 150)\n",
    "plt.axis(\"auto\")\n",
    "plt.title(\"% of Total Drivers by City Type\")\n",
    "plt.tight_layout()\n",
    "\n",
    "#plt.savefig('pie_drivers.png')\n",
    "plt.show()"
   ]
  },
  {
   "cell_type": "code",
   "execution_count": 16,
   "metadata": {},
   "outputs": [
    {
     "data": {
      "text/html": [
       "<div>\n",
       "<style scoped>\n",
       "    .dataframe tbody tr th:only-of-type {\n",
       "        vertical-align: middle;\n",
       "    }\n",
       "\n",
       "    .dataframe tbody tr th {\n",
       "        vertical-align: top;\n",
       "    }\n",
       "\n",
       "    .dataframe thead th {\n",
       "        text-align: right;\n",
       "    }\n",
       "</style>\n",
       "<table border=\"1\" class=\"dataframe\">\n",
       "  <thead>\n",
       "    <tr style=\"text-align: right;\">\n",
       "      <th></th>\n",
       "      <th>city</th>\n",
       "      <th>Drivers Count by City</th>\n",
       "      <th>Type</th>\n",
       "      <th>Rides per City</th>\n",
       "      <th>Average Fares</th>\n",
       "    </tr>\n",
       "  </thead>\n",
       "  <tbody>\n",
       "    <tr>\n",
       "      <th>0</th>\n",
       "      <td>Richardfort</td>\n",
       "      <td>38</td>\n",
       "      <td>Urban</td>\n",
       "      <td>28.0</td>\n",
       "      <td>22.373214</td>\n",
       "    </tr>\n",
       "    <tr>\n",
       "      <th>1</th>\n",
       "      <td>Williamsstad</td>\n",
       "      <td>59</td>\n",
       "      <td>Urban</td>\n",
       "      <td>23.0</td>\n",
       "      <td>24.362174</td>\n",
       "    </tr>\n",
       "    <tr>\n",
       "      <th>2</th>\n",
       "      <td>Port Angela</td>\n",
       "      <td>67</td>\n",
       "      <td>Urban</td>\n",
       "      <td>19.0</td>\n",
       "      <td>23.836842</td>\n",
       "    </tr>\n",
       "    <tr>\n",
       "      <th>3</th>\n",
       "      <td>Rodneyfort</td>\n",
       "      <td>34</td>\n",
       "      <td>Urban</td>\n",
       "      <td>23.0</td>\n",
       "      <td>28.616957</td>\n",
       "    </tr>\n",
       "    <tr>\n",
       "      <th>4</th>\n",
       "      <td>West Robert</td>\n",
       "      <td>39</td>\n",
       "      <td>Urban</td>\n",
       "      <td>31.0</td>\n",
       "      <td>25.123871</td>\n",
       "    </tr>\n",
       "  </tbody>\n",
       "</table>\n",
       "</div>"
      ],
      "text/plain": [
       "           city  Drivers Count by City   Type  Rides per City  Average Fares\n",
       "0   Richardfort                     38  Urban            28.0      22.373214\n",
       "1  Williamsstad                     59  Urban            23.0      24.362174\n",
       "2   Port Angela                     67  Urban            19.0      23.836842\n",
       "3    Rodneyfort                     34  Urban            23.0      28.616957\n",
       "4   West Robert                     39  Urban            31.0      25.123871"
      ]
     },
     "execution_count": 16,
     "metadata": {},
     "output_type": "execute_result"
    }
   ],
   "source": [
    "data.head()"
   ]
  },
  {
   "cell_type": "code",
   "execution_count": 17,
   "metadata": {},
   "outputs": [
    {
     "data": {
      "image/png": "[encoded data removed]",
      "text/plain": [
       "<Figure size 432x288 with 1 Axes>"
      ]
     },
     "metadata": {
      "needs_background": "light"
     },
     "output_type": "display_data"
    }
   ],
   "source": [
    "data.Type.value_counts().plot.bar()\n",
    "plt.show()"
   ]
  }
 ],
 "metadata": {
  "kernelspec": {
   "display_name": "Python 3",
   "language": "python",
   "name": "python3"
  },
  "language_info": {
   "codemirror_mode": {
    "name": "ipython",
    "version": 3
   },
   "file_extension": ".py",
   "mimetype": "text/x-python",
   "name": "python",
   "nbconvert_exporter": "python",
   "pygments_lexer": "ipython3",
   "version": "3.7.1"
  }
 },
 "nbformat": 4,
 "nbformat_minor": 2
}
